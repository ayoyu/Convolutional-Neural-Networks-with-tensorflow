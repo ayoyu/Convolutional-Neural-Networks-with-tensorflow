{
  "nbformat": 4,
  "nbformat_minor": 0,
  "metadata": {
    "colab": {
      "name": "CNN_Tensorflow.ipynb",
      "version": "0.3.2",
      "provenance": [],
      "collapsed_sections": []
    },
    "kernelspec": {
      "name": "python3",
      "display_name": "Python 3"
    },
    "accelerator": "GPU"
  },
  "cells": [
    {
      "cell_type": "markdown",
      "metadata": {
        "id": "view-in-github",
        "colab_type": "text"
      },
      "source": [
        "[View in Colaboratory](https://colab.research.google.com/github/ayoyu/Convolutional-Neural-Networks-with-tensorflow/blob/master/CNN_Tensorflow.ipynb)"
      ]
    },
    {
      "metadata": {
        "id": "GjKzAYEDIQaX",
        "colab_type": "code",
        "colab": {}
      },
      "cell_type": "code",
      "source": [
        "import tensorflow as tf\n",
        "import numpy as np\n",
        "import os\n",
        "\n",
        "class CNN(object):\n",
        "    \n",
        "    def __init__(self,epochs,batch_size,nbr_classes,n_features,learning_rate,dropout_rate,shuffle=True,random_seed=None):\n",
        "        self.epochs=epochs\n",
        "        self.batch_size=batch_size\n",
        "        self.nbr_classes=nbr_classes\n",
        "        self.n_features=n_features\n",
        "        self.learning_rate=learning_rate\n",
        "        self.dropout_rate=dropout_rate\n",
        "        self.shuffle=shuffle\n",
        "        self.random_seed=random_seed\n",
        "        g=tf.Graph()\n",
        "        with g.as_default():\n",
        "            tf.set_random_seed(self.random_seed)\n",
        "            self.build()\n",
        "            self.init=tf.global_variables_initializer()\n",
        "            self.saver=tf.train.Saver()\n",
        "        self.sess=tf.Session(graph=g)\n",
        "    \n",
        "    def build(self):\n",
        "        self.X=tf.placeholder(dtype=tf.float32,shape=(None,self.n_features),name='input')\n",
        "        self.y=tf.placeholder(dtype=tf.int32,shape=(None),name='output')\n",
        "        self.is_train=tf.placeholder(tf.bool,shape=(),name='is_train')\n",
        "        X_images=tf.reshape(self.X,shape=[-1,28,28,1],name='images')\n",
        "        y_onehot=tf.one_hot(indices=self.y,depth=self.nbr_classes,name='y_onehot')\n",
        "        conv1=tf.layers.conv2d(inputs=X_images,filters=32,kernel_size=(5,5),\n",
        "                               padding='valid',activation=tf.nn.relu)\n",
        "        max_pool1=tf.layers.max_pooling2d(inputs=conv1,pool_size=(2,2),strides=(2,2))\n",
        "        conv2=tf.layers.conv2d(inputs=max_pool1,filters=64,kernel_size=(5,5),\n",
        "                               padding='valid',activation=tf.nn.relu)\n",
        "        max_pool2=tf.layers.max_pooling2d(inputs=conv2,pool_size=(2,2),strides=(2,2))\n",
        "        inputs_shape=max_pool2.get_shape().as_list()\n",
        "        inputs_units=np.prod(inputs_shape[1:])\n",
        "        pool_flatten=tf.reshape(max_pool2,shape=[-1,inputs_units])\n",
        "        fully_connected1=tf.layers.dense(inputs=pool_flatten,units=1024,activation=tf.nn.relu)\n",
        "        dropout1=tf.layers.dropout(inputs=fully_connected1,rate=self.dropout_rate,training=self.is_train)\n",
        "        fully_connected2=tf.layers.dense(inputs=dropout1,units=self.nbr_classes,activation=None)\n",
        "        \n",
        "        self.predictions={'proba':tf.nn.softmax(logits=fully_connected2),\n",
        "                     'labels':tf.cast(tf.argmax(fully_connected2,axis=1),dtype=tf.int32,name='labels')}\n",
        "        \n",
        "        self.loss_function=tf.reduce_mean(tf.nn.softmax_cross_entropy_with_logits(labels=y_onehot,\n",
        "                                                                             logits=fully_connected2,name='cross_entropy_loss'))\n",
        "        self.optimzer=tf.train.AdamOptimizer(learning_rate=self.learning_rate).minimize(loss=self.loss_function,name='optimizer')\n",
        "        \n",
        "        correct_predictions=tf.equal(self.y,self.predictions['labels'])\n",
        "        self.accuracy=tf.reduce_mean(tf.cast(correct_predictions,dtype=tf.float32),name='accuracy')\n",
        "    \n",
        "    def save_model(self,epoch,path='./model_CNN/'):\n",
        "        if os.path.isdir(path):\n",
        "            os.makedirs(path)\n",
        "        print('save the model in {}'.format(path))\n",
        "        self.saver.save(self.sess,os.path.join(path,'model.ckpt'),global_step=epoch)\n",
        "    \n",
        "    def load(self,epoch,path):\n",
        "        print('loading model from {}'.format(path))\n",
        "        self.saver.restore(self.sess,os.path.join(path,'model.ckpt{}'.format(epoch)))\n",
        "    \n",
        "    def batch_generator(self,X_train,y_train):\n",
        "        X_copy=np.array(X_train,copy=True)\n",
        "        y_copy=np.array(y_train,copy=True)\n",
        "        data=np.column_stack((X_copy,y_copy))\n",
        "        if self.shuffle:\n",
        "            np.random.shuffle(data)\n",
        "        X_copy=data[:,:-1]\n",
        "        y_copy=data[:,-1]\n",
        "        for i in range(0,X_train.shape[0],self.batch_size):\n",
        "            yield(X_copy[i:i+self.batch_size,:],y_copy[i:i+self.batch_size])\n",
        "    \n",
        "    def fit(self,X,y):\n",
        "        self.sess.run(self.init)\n",
        "        self.train_cost=[]\n",
        "        for epoch in range(self.epochs):\n",
        "            cost_batch=[]\n",
        "            for X_batch,y_batch in self.batch_generator(X,y):\n",
        "                feed_dict={self.X:X_batch,self.y:y_batch,self.is_train:True}\n",
        "                _,loss=self.sess.run([self.optimzer,self.loss_function],feed_dict=feed_dict)\n",
        "                cost_batch.append(loss)\n",
        "            self.train_cost.append(np.mean(cost_batch))\n",
        "            print('epoch={} \\\\ loss={}'.format(epoch,np.mean(cost_batch)))\n",
        "    \n",
        "    def predict(self,X_test,return_proba=True):\n",
        "        feed_dict={self.X:X_test,self.is_train:False}\n",
        "        if return_proba:\n",
        "            return self.sess.run(self.predictions['proba'],feed_dict=feed_dict)\n",
        "        else:\n",
        "            return self.sess.run(self.predictions['labels'],feed_dict=feed_dict)\n",
        "    "
      ],
      "execution_count": 0,
      "outputs": []
    },
    {
      "metadata": {
        "id": "oI6FZpcnJKFi",
        "colab_type": "code",
        "colab": {
          "base_uri": "https://localhost:8080/",
          "height": 92
        },
        "outputId": "fca5a2cf-65ad-404d-d0b6-a293c4d3741b"
      },
      "cell_type": "code",
      "source": [
        "from keras.datasets import mnist\n",
        "(train_images, train_labels), (test_images, test_labels) = mnist.load_data()\n",
        "print(\"images train shape:{}\".format(train_images.shape))\n",
        "print(\"labels train shape:{}\".format(train_labels.shape))\n",
        "print(\"images test shape:{}\".format(test_images.shape))\n",
        "print(\"labels test shape:{}\".format(test_labels.shape))"
      ],
      "execution_count": 4,
      "outputs": [
        {
          "output_type": "stream",
          "text": [
            "images train shape:(60000, 28, 28)\n",
            "labels train shape:(60000,)\n",
            "images test shape:(10000, 28, 28)\n",
            "labels test shape:(10000,)\n"
          ],
          "name": "stdout"
        }
      ]
    },
    {
      "metadata": {
        "id": "Vb5u2uvUKm88",
        "colab_type": "code",
        "colab": {
          "base_uri": "https://localhost:8080/",
          "height": 404
        },
        "outputId": "f2b7586c-a3a4-422a-c4b2-18df0f81f81e"
      },
      "cell_type": "code",
      "source": [
        "import matplotlib.pyplot as plt\n",
        "train_images=np.reshape(train_images,(60000,28*28))\n",
        "test_images=np.reshape(test_images,(10000,28*28))\n",
        "print(\"images train shape:{}\".format(train_images.shape))\n",
        "print(\"images test shape:{}\".format(test_images.shape))\n",
        "index=6\n",
        "plt.imshow(train_images[index].reshape(28,28))"
      ],
      "execution_count": 7,
      "outputs": [
        {
          "output_type": "stream",
          "text": [
            "images train shape:(60000, 784)\n",
            "images test shape:(10000, 784)\n"
          ],
          "name": "stdout"
        },
        {
          "output_type": "execute_result",
          "data": {
            "text/plain": [
              "<matplotlib.image.AxesImage at 0x7f9df519d198>"
            ]
          },
          "metadata": {
            "tags": []
          },
          "execution_count": 7
        },
        {
          "output_type": "display_data",
          "data": {
            "image/png": "[encoded data removed]",
            "text/plain": [
              "<matplotlib.figure.Figure at 0x7f9df55e9b70>"
            ]
          },
          "metadata": {
            "tags": []
          }
        }
      ]
    },
    {
      "metadata": {
        "id": "g5uFT4iALg7G",
        "colab_type": "code",
        "colab": {
          "base_uri": "https://localhost:8080/",
          "height": 565
        },
        "outputId": "48b95dcc-6240-4e1d-ace0-e488bc3c9533"
      },
      "cell_type": "code",
      "source": [
        "nbr_classes=np.unique(train_labels).shape[0]\n",
        "CNN_model=CNN(epochs=20,batch_size=60,nbr_classes=nbr_classes,n_features=train_images.shape[1],learning_rate=0.01,dropout_rate=0.5,shuffle=True,random_seed=10)\n",
        "CNN_model.fit(train_images,train_labels)"
      ],
      "execution_count": 9,
      "outputs": [
        {
          "output_type": "stream",
          "text": [
            "WARNING:tensorflow:From <ipython-input-1-a29bf23f50f8>:47: softmax_cross_entropy_with_logits (from tensorflow.python.ops.nn_ops) is deprecated and will be removed in a future version.\n",
            "Instructions for updating:\n",
            "\n",
            "Future major versions of TensorFlow will allow gradients to flow\n",
            "into the labels input on backprop by default.\n",
            "\n",
            "See tf.nn.softmax_cross_entropy_with_logits_v2.\n",
            "\n",
            "epoch=0 \\ loss=1.908595085144043\n",
            "epoch=1 \\ loss=0.27918946743011475\n",
            "epoch=2 \\ loss=0.3200913071632385\n",
            "epoch=3 \\ loss=0.3106599748134613\n",
            "epoch=4 \\ loss=0.3071245849132538\n",
            "epoch=5 \\ loss=0.30686867237091064\n",
            "epoch=6 \\ loss=0.31252703070640564\n",
            "epoch=7 \\ loss=0.32444819808006287\n",
            "epoch=8 \\ loss=0.3237484097480774\n",
            "epoch=9 \\ loss=0.33554786443710327\n",
            "epoch=10 \\ loss=0.4399779140949249\n",
            "epoch=11 \\ loss=0.37492120265960693\n",
            "epoch=12 \\ loss=0.33805713057518005\n",
            "epoch=13 \\ loss=0.3207647204399109\n",
            "epoch=14 \\ loss=0.3167080581188202\n",
            "epoch=15 \\ loss=0.30852848291397095\n",
            "epoch=16 \\ loss=0.30370599031448364\n",
            "epoch=17 \\ loss=0.29595908522605896\n",
            "epoch=18 \\ loss=0.28732356429100037\n",
            "epoch=19 \\ loss=0.2887123227119446\n"
          ],
          "name": "stdout"
        }
      ]
    },
    {
      "metadata": {
        "id": "XvnNJ5RzPE3N",
        "colab_type": "code",
        "colab": {
          "base_uri": "https://localhost:8080/",
          "height": 395
        },
        "outputId": "79156bb9-547d-461d-efd3-4e582a4c4e0f"
      },
      "cell_type": "code",
      "source": [
        "train_cost=CNN_model.train_cost\n",
        "plt.plot(range(1,len(train_cost)+1),train_cost)\n",
        "plt.xlabel(\"epoch\")\n",
        "plt.ylabel(\"loss\")\n",
        "plt.title(\"Learning curve\")"
      ],
      "execution_count": 10,
      "outputs": [
        {
          "output_type": "execute_result",
          "data": {
            "text/plain": [
              "Text(0.5,1,'Learning curve')"
            ]
          },
          "metadata": {
            "tags": []
          },
          "execution_count": 10
        },
        {
          "output_type": "display_data",
          "data": {
            "image/png": "[encoded data removed]",
            "text/plain": [
              "<matplotlib.figure.Figure at 0x7f9df55e9278>"
            ]
          },
          "metadata": {
            "tags": []
          }
        }
      ]
    }
  ]
}